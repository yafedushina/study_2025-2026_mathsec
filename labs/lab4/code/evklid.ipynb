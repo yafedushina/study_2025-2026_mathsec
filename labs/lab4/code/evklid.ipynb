{
 "cells": [
  {
   "cell_type": "markdown",
   "id": "c0fbe2c2",
   "metadata": {},
   "source": [
    "### лабораторная №4\n",
    "### реализовать различные варианты алгоритма Евклида"
   ]
  },
  {
   "cell_type": "code",
   "execution_count": 7,
   "id": "e21159b4",
   "metadata": {},
   "outputs": [
    {
     "name": "stdout",
     "output_type": "stream",
     "text": [
      "10 20\n"
     ]
    },
    {
     "data": {
      "text/plain": [
       "10"
      ]
     },
     "execution_count": 7,
     "metadata": {},
     "output_type": "execute_result"
    }
   ],
   "source": [
    "# алгоритм Евклида\n",
    "a, b = 10, 20\n",
    "print(a,b)\n",
    "\n",
    "def euclid(a: int, b: int) -> int:\n",
    "    while a != 0 and b != 0:\n",
    "        if a >= b:\n",
    "            a %= b\n",
    "        else:\n",
    "            b %= a\n",
    "    return a or b\n",
    "\n",
    "euclid(a, b)"
   ]
  },
  {
   "cell_type": "code",
   "execution_count": 8,
   "id": "8fd00835",
   "metadata": {},
   "outputs": [
    {
     "data": {
      "text/plain": [
       "10.0"
      ]
     },
     "execution_count": 8,
     "metadata": {},
     "output_type": "execute_result"
    }
   ],
   "source": [
    "# бинарный алгоритм евклида\n",
    "def euclid_bin(a: int, b: int) -> int:\n",
    "    g = 1\n",
    "    while a % 2 == 0 and b % 2 == 0:\n",
    "        a /= 2\n",
    "        b /= 2\n",
    "        g *= 2\n",
    "    u, v = a, b\n",
    "    while u != 0:\n",
    "        if u % 2 == 0:\n",
    "            u /= 2\n",
    "        if v%2 == 0:\n",
    "            v /= 2\n",
    "        if u>=v:\n",
    "            u -= v\n",
    "        else:\n",
    "            v -= u\n",
    "    return g*v\n",
    "\n",
    "euclid_bin(a, b)"
   ]
  },
  {
   "cell_type": "code",
   "execution_count": null,
   "id": "db68c75e",
   "metadata": {},
   "outputs": [
    {
     "data": {
      "text/plain": [
       "(10, 1, 0)"
      ]
     },
     "execution_count": 9,
     "metadata": {},
     "output_type": "execute_result"
    }
   ],
   "source": [
    "# расширенный алгоритм Евклида\n",
    "def euclid_ext(a: int, b: int) -> tuple[int]:\n",
    "    if a == 0:\n",
    "        return (b, 0, 1)\n",
    "    else:\n",
    "        div, x, y = euclid_ext(b % a, a)\n",
    "    return (div, y - ( b // a ) * x, x)\n",
    "\n",
    "euclid_ext(a, b)"
   ]
  },
  {
   "cell_type": "code",
   "execution_count": 10,
   "id": "ddac6767",
   "metadata": {},
   "outputs": [
    {
     "data": {
      "text/plain": [
       "(10.0, 5.0, -2.0)"
      ]
     },
     "execution_count": 10,
     "metadata": {},
     "output_type": "execute_result"
    }
   ],
   "source": [
    "## расширенный бинарный алгоритм Евклида\n",
    "def euclid_bin_ext(a: int, b: int) -> tuple[int]:\n",
    "    g = 1\n",
    "    while a % 2 == 0 and b % 2 == 0:\n",
    "        a /= 2\n",
    "        b /= 2\n",
    "        g *= 2\n",
    "    u, v = a, b\n",
    "    A, B, C, D = 1, 0, 0, 1\n",
    "    while u != 0:\n",
    "        if u % 2 == 0:\n",
    "            u /= 2\n",
    "            if A % 2 == 0 and B % 2 == 0:\n",
    "                A /= 2\n",
    "                B /= 2\n",
    "            else:\n",
    "                A = (A + b)/2\n",
    "                B = (B - a)/2\n",
    "        if v % 2 == 0:\n",
    "            v /= 2\n",
    "            if C % 2 == 0 and D % 2 == 0:\n",
    "                C /= 2\n",
    "                D /= 2\n",
    "            else:\n",
    "                C = (C + b)/2\n",
    "                D = (D - a)/2\n",
    "        if u>=v:\n",
    "            u -= v\n",
    "            A -= C\n",
    "            B -= D\n",
    "        else:\n",
    "            v -= u\n",
    "            C -= A\n",
    "            D -= B\n",
    "    return (g * v, C, D)\n",
    "\n",
    "euclid_bin_ext(a, b)"
   ]
  }
 ],
 "metadata": {
  "kernelspec": {
   "display_name": "Python 3",
   "language": "python",
   "name": "python3"
  },
  "language_info": {
   "codemirror_mode": {
    "name": "ipython",
    "version": 3
   },
   "file_extension": ".py",
   "mimetype": "text/x-python",
   "name": "python",
   "nbconvert_exporter": "python",
   "pygments_lexer": "ipython3",
   "version": "3.9.6"
  }
 },
 "nbformat": 4,
 "nbformat_minor": 5
}
